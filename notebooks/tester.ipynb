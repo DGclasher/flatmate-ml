{
 "cells": [
  {
   "cell_type": "code",
   "execution_count": 10,
   "metadata": {},
   "outputs": [
    {
     "name": "stdout",
     "output_type": "stream",
     "text": [
      "[53456 86341]\n",
      "[53456, 86341]\n"
     ]
    }
   ],
   "source": [
    "import pickle\n",
    "import numpy as np\n",
    "import pandas as pd\n",
    "from sklearn.metrics.pairwise import cosine_similarity\n",
    "from sklearn.preprocessing import OneHotEncoder, StandardScaler\n",
    "\n",
    "data = pd.read_csv(\"user_profiles.csv\")\n",
    "\n",
    "# Load the encoder, scaler, and combined data matrix from pickle files\n",
    "with open(\"./dumps/encoder.pkl\", \"rb\") as f:\n",
    "    encoder = pickle.load(f)\n",
    "\n",
    "with open(\"./dumps/scaler.pkl\", \"rb\") as f:\n",
    "    scaler = pickle.load(f)\n",
    "\n",
    "with open(\"./dumps/combined_data.pkl\", \"rb\") as f:\n",
    "    X = pickle.load(f)\n",
    "\n",
    "# Column definitions\n",
    "categorical_columns = [\n",
    "    'Gender', 'Occupation', 'Education_Level', 'Preferred_City', \n",
    "    'Proximity_to_Workplace/College', 'Preferred_Accommodation', \n",
    "    'Daily_Schedule', 'Smoking_Habits', 'Drinking_Habits', \n",
    "    'Dietary_Preferences', 'Pet_Preferences', 'Introvert/Extrovert', \n",
    "    'Cleanliness_Level', 'Social_Habits', 'Hobbies_and_Interests', \n",
    "    'Language_Preferences', 'Preferred_Security_Measures', \n",
    "    'Past_Experiences_with_Roommates'\n",
    "]\n",
    "numerical_columns = ['Age', 'Budget/Price_Range', 'Number_of_Roommates']\n",
    "\n",
    "# Function to recommend profiles for a new user\n",
    "def recommend_profiles_for_new_user(new_user_data, num_recommendations=3):\n",
    "    # Transform the new user's data\n",
    "    new_user_cats = encoder.transform(new_user_data[categorical_columns]).toarray()\n",
    "    new_user_nums = scaler.transform(new_user_data[numerical_columns])\n",
    "    new_user_X = np.hstack([new_user_cats, new_user_nums])\n",
    "    \n",
    "    # Compute similarities\n",
    "    new_user_similarities = cosine_similarity(new_user_X, X).flatten()\n",
    "    similar_user_indices = np.argsort(new_user_similarities)[::-1][:num_recommendations]\n",
    "    \n",
    "    # Return recommended profiles\n",
    "    return data.iloc[similar_user_indices]\n",
    "\n",
    "# Example new user data (as a DataFrame)\n",
    "new_user_data = pd.DataFrame({\n",
    "    'Gender': ['Male'],\n",
    "    'Occupation': ['Professional'],\n",
    "    'Education_Level': ['Graduate'],\n",
    "    'Preferred_City': ['New York'],\n",
    "    'Proximity_to_Workplace/College': ['Yes'],\n",
    "    'Preferred_Accommodation': ['Apartment'],\n",
    "    'Daily_Schedule': ['Early Bird'],\n",
    "    'Smoking_Habits': ['Non-smoker'],\n",
    "    'Drinking_Habits': ['Drinker'],\n",
    "    'Dietary_Preferences': ['Non-vegetarian'],\n",
    "    'Pet_Preferences': ['Allergic to Pets'],\n",
    "    'Introvert/Extrovert': ['Extrovert'],\n",
    "    'Cleanliness_Level': ['Neat'],\n",
    "    'Social_Habits': ['Quiet'],\n",
    "    'Hobbies_and_Interests': ['Reading'],\n",
    "    'Language_Preferences': ['English'],\n",
    "    'Preferred_Security_Measures': ['Secure Building'],\n",
    "    'Past_Experiences_with_Roommates': ['Good'],\n",
    "    'Age': [28],\n",
    "    'Budget/Price_Range': [1000],\n",
    "    'Number_of_Roommates': [2]\n",
    "})\n",
    "\n",
    "# Get recommendations for the new user\n",
    "recommended_profiles = recommend_profiles_for_new_user(new_user_data, num_recommendations=2)\n",
    "user_ids = recommended_profiles['User_ID'].values\n",
    "user_ids = user_ids.tolist()\n",
    "print(user_ids)\n"
   ]
  }
 ],
 "metadata": {
  "kernelspec": {
   "display_name": "venv",
   "language": "python",
   "name": "python3"
  },
  "language_info": {
   "codemirror_mode": {
    "name": "ipython",
    "version": 3
   },
   "file_extension": ".py",
   "mimetype": "text/x-python",
   "name": "python",
   "nbconvert_exporter": "python",
   "pygments_lexer": "ipython3",
   "version": "3.10.12"
  }
 },
 "nbformat": 4,
 "nbformat_minor": 2
}
