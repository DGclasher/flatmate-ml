{
 "cells": [
  {
   "cell_type": "code",
   "execution_count": 2,
   "metadata": {},
   "outputs": [
    {
     "name": "stdout",
     "output_type": "stream",
     "text": [
      "[42343, 35634]\n"
     ]
    }
   ],
   "source": [
    "import pickle\n",
    "import numpy as np\n",
    "import pandas as pd\n",
    "from sklearn.metrics.pairwise import cosine_similarity\n",
    "from sklearn.preprocessing import OneHotEncoder, StandardScaler\n",
    "\n",
    "data = pd.read_csv(\"../datasets/user_profiles.csv\")\n",
    "\n",
    "with open(\"../dumps/encoder.pkl\", \"rb\") as f:\n",
    "    encoder = pickle.load(f)\n",
    "\n",
    "with open(\"../dumps/scaler.pkl\", \"rb\") as f:\n",
    "    scaler = pickle.load(f)\n",
    "\n",
    "with open(\"../dumps/combined_data.pkl\", \"rb\") as f:\n",
    "    X = pickle.load(f)\n",
    "\n",
    "categorical_columns = [\n",
    "    'gender', 'occupation', 'educationLevel', 'preferredCity', \n",
    "    'preferredAccommodation', 'dailySchedule', 'smokingHabits', \n",
    "    'drinkingHabits', 'dietaryPreferences', 'petPreferences', \n",
    "    'introvertExtrovert', 'socialHabits', \n",
    "    'hobbiesAndInterests', 'languagePreferences', 'preferredSecurityMeasures', \n",
    "    'isLookingFor'  \n",
    "]\n",
    "numerical_columns = ['age', 'budgetPriceRange', 'numberOfRoommates']\n",
    "\n",
    "# Function to recommend profiles for a new user\n",
    "def recommend_profiles_for_new_user(new_user_data, num_recommendations=3):\n",
    "    new_user_is_looking_for = new_user_data['isLookingFor'].iloc[0]\n",
    "    complementary_is_looking_for = 'roommate' if new_user_is_looking_for == 'room' else 'room'\n",
    "    \n",
    "    new_user_cats = encoder.transform(new_user_data[categorical_columns]).toarray()\n",
    "    new_user_nums = scaler.transform(new_user_data[numerical_columns])\n",
    "    new_user_X = np.hstack([new_user_cats, new_user_nums])\n",
    "    \n",
    "    valid_indices = data[data['isLookingFor'] == complementary_is_looking_for].index\n",
    "    valid_X = X[valid_indices]  # Subset of the dataset\n",
    "    \n",
    "    new_user_similarities = cosine_similarity(new_user_X, valid_X).flatten()\n",
    "    similar_user_indices = valid_indices[np.argsort(new_user_similarities)[::-1][:num_recommendations]]\n",
    "    \n",
    "    return data.iloc[similar_user_indices]\n",
    "\n",
    "new_user_data = pd.DataFrame({\n",
    "    'gender': ['Male'],\n",
    "    'occupation': ['Professional'],\n",
    "    'educationLevel': ['Graduate'],\n",
    "    'preferredCity': ['New York'],\n",
    "    'preferredAccommodation': ['Apartment'],\n",
    "    'dailySchedule': ['Early Bird'],\n",
    "    'smokingHabits': ['Non-smoker'],\n",
    "    'drinkingHabits': ['Drinker'],\n",
    "    'dietaryPreferences': ['Non-vegetarian'],\n",
    "    'petPreferences': ['Allergic to Pets'],\n",
    "    'introvertExtrovert': ['Extrovert'],\n",
    "    'socialHabits': ['Quiet'],\n",
    "    'hobbiesAndInterests': ['Reading'],\n",
    "    'languagePreferences': ['English'],\n",
    "    'preferredSecurityMeasures': ['Secure Building'],\n",
    "    'isLookingFor': ['room'],  \n",
    "    'age': [28],\n",
    "    'budgetPriceRange': [1000],\n",
    "    'numberOfRoommates': [2]\n",
    "})\n",
    "\n",
    "recommended_profiles = recommend_profiles_for_new_user(new_user_data, num_recommendations=2)\n",
    "user_ids = recommended_profiles['googleId'].values.tolist()\n",
    "print(user_ids)\n"
   ]
  }
 ],
 "metadata": {
  "kernelspec": {
   "display_name": "venv",
   "language": "python",
   "name": "python3"
  },
  "language_info": {
   "codemirror_mode": {
    "name": "ipython",
    "version": 3
   },
   "file_extension": ".py",
   "mimetype": "text/x-python",
   "name": "python",
   "nbconvert_exporter": "python",
   "pygments_lexer": "ipython3",
   "version": "3.10.12"
  }
 },
 "nbformat": 4,
 "nbformat_minor": 2
}
