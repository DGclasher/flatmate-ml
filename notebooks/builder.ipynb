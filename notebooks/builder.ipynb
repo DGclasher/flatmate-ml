{
 "cells": [
  {
   "cell_type": "code",
   "execution_count": 2,
   "metadata": {},
   "outputs": [
    {
     "name": "stdout",
     "output_type": "stream",
     "text": [
      "Encoder, scaler, and combined data saved to pickle files.\n"
     ]
    }
   ],
   "source": [
    "import pickle\n",
    "import numpy as np\n",
    "import pandas as pd\n",
    "from sklearn.metrics.pairwise import cosine_similarity\n",
    "from sklearn.preprocessing import OneHotEncoder, StandardScaler\n",
    "\n",
    "file_path = \"../datasets/user_profiles.csv\"\n",
    "data = pd.read_csv(file_path)\n",
    "\n",
    "categorical_columns = [\n",
    "    'gender', 'occupation', 'educationLevel', 'preferredCity', \n",
    "    'preferredAccommodation', 'dailySchedule', 'smokingHabits', \n",
    "    'drinkingHabits', 'dietaryPreferences', 'petPreferences', \n",
    "    'introvertExtrovert', 'socialHabits', \n",
    "    'hobbiesAndInterests', 'languagePreferences', 'preferredSecurityMeasures', \n",
    "    'isLookingFor' \n",
    "]\n",
    "numerical_columns = ['age', 'budgetPriceRange', 'numberOfRoommates']\n",
    "\n",
    "encoder = OneHotEncoder()\n",
    "encoded_cats = encoder.fit_transform(data[categorical_columns]).toarray()\n",
    "\n",
    "scaler = StandardScaler()\n",
    "scaled_nums = scaler.fit_transform(data[numerical_columns])\n",
    "\n",
    "X = np.hstack([encoded_cats, scaled_nums])\n",
    "\n",
    "similarity_matrix = cosine_similarity(X)\n",
    "\n",
    "def recommend_profiles(user_index, num_recommendations=3):\n",
    "    user_is_looking_for = data.iloc[user_index]['isLookingFor']\n",
    "    complementary_is_looking_for = 'roommate' if user_is_looking_for == 'room' else 'room'\n",
    "    \n",
    "    valid_indices = data[data['isLookingFor'] == complementary_is_looking_for].index\n",
    "    user_similarities = similarity_matrix[user_index, valid_indices]\n",
    "    \n",
    "    similar_user_indices = valid_indices[np.argsort(user_similarities)[::-1][:num_recommendations]]\n",
    "    return data.iloc[similar_user_indices]\n",
    "\n",
    "recommendations_dict = {}\n",
    "for i in range(data.shape[0]):\n",
    "    recommended_profiles = recommend_profiles(i, num_recommendations=3)\n",
    "    recommendations_dict[data.iloc[i]['googleId']] = recommended_profiles['googleId'].tolist()\n",
    "\n",
    "recommendations_df = pd.DataFrame.from_dict(recommendations_dict, orient='index')\n",
    "recommendations_df.columns = [f'Recommendation_{i+1}' for i in range(recommendations_df.shape[1])]\n",
    "\n",
    "with open(\"../dumps/encoder.pkl\", \"wb\") as f:\n",
    "    pickle.dump(encoder, f)\n",
    "\n",
    "with open(\"../dumps/scaler.pkl\", \"wb\") as f:\n",
    "    pickle.dump(scaler, f)\n",
    "\n",
    "with open(\"../dumps/combined_data.pkl\", \"wb\") as f:\n",
    "    pickle.dump(X, f)\n",
    "\n",
    "print(\"Encoder, scaler, and combined data saved to pickle files.\")\n"
   ]
  }
 ],
 "metadata": {
  "kernelspec": {
   "display_name": "venv",
   "language": "python",
   "name": "python3"
  },
  "language_info": {
   "codemirror_mode": {
    "name": "ipython",
    "version": 3
   },
   "file_extension": ".py",
   "mimetype": "text/x-python",
   "name": "python",
   "nbconvert_exporter": "python",
   "pygments_lexer": "ipython3",
   "version": "3.10.12"
  }
 },
 "nbformat": 4,
 "nbformat_minor": 2
}
