{
 "cells": [
  {
   "cell_type": "code",
   "execution_count": 1,
   "metadata": {},
   "outputs": [
    {
     "name": "stdout",
     "output_type": "stream",
     "text": [
      "Encoder, scaler, and combined data saved to pickle files.\n"
     ]
    }
   ],
   "source": [
    "import pickle\n",
    "import numpy as np\n",
    "import pandas as pd\n",
    "from sklearn.metrics.pairwise import cosine_similarity\n",
    "from sklearn.preprocessing import OneHotEncoder, StandardScaler\n",
    "\n",
    "# Load the data\n",
    "file_path = \"./user_profiles.csv\"\n",
    "data = pd.read_csv(file_path)\n",
    "\n",
    "# Separate features\n",
    "categorical_columns = [\n",
    "    'Gender', 'Occupation', 'Education_Level', 'Preferred_City', \n",
    "    'Proximity_to_Workplace/College', 'Preferred_Accommodation', \n",
    "    'Daily_Schedule', 'Smoking_Habits', 'Drinking_Habits', \n",
    "    'Dietary_Preferences', 'Pet_Preferences', 'Introvert/Extrovert', \n",
    "    'Cleanliness_Level', 'Social_Habits', 'Hobbies_and_Interests', \n",
    "    'Language_Preferences', 'Preferred_Security_Measures', \n",
    "    'Past_Experiences_with_Roommates'\n",
    "]\n",
    "numerical_columns = ['Age', 'Budget/Price_Range', 'Number_of_Roommates']\n",
    "\n",
    "# One-hot encode categorical variables\n",
    "encoder = OneHotEncoder()\n",
    "encoded_cats = encoder.fit_transform(data[categorical_columns]).toarray()\n",
    "\n",
    "# Scale numerical variables\n",
    "scaler = StandardScaler()\n",
    "scaled_nums = scaler.fit_transform(data[numerical_columns])\n",
    "\n",
    "# Combine encoded categorical and scaled numerical data\n",
    "X = np.hstack([encoded_cats, scaled_nums])\n",
    "\n",
    "# Compute similarity matrix\n",
    "similarity_matrix = cosine_similarity(X)\n",
    "\n",
    "# Function to recommend profiles\n",
    "def recommend_profiles(user_index, num_recommendations=3):\n",
    "    user_similarities = similarity_matrix[user_index]\n",
    "    similar_user_indices = np.argsort(user_similarities)[::-1][1:num_recommendations+1]\n",
    "    return data.iloc[similar_user_indices]\n",
    "\n",
    "# Save recommendations for each user in the dataset\n",
    "recommendations_dict = {}\n",
    "for i in range(data.shape[0]):\n",
    "    recommended_profiles = recommend_profiles(i, num_recommendations=3)\n",
    "    recommendations_dict[data.iloc[i]['Name']] = recommended_profiles['Name'].tolist()\n",
    "\n",
    "# Convert recommendations to a DataFrame\n",
    "recommendations_df = pd.DataFrame.from_dict(recommendations_dict, orient='index')\n",
    "recommendations_df.columns = [f'Recommendation_{i+1}' for i in range(recommendations_df.shape[1])]\n",
    "\n",
    "# Save the encoder, scaler, and combined data matrix using pickle\n",
    "with open(\"./dumps/encoder.pkl\", \"wb\") as f:\n",
    "    pickle.dump(encoder, f)\n",
    "\n",
    "with open(\"./dumps/scaler.pkl\", \"wb\") as f:\n",
    "    pickle.dump(scaler, f)\n",
    "\n",
    "with open(\"./dumps/combined_data.pkl\", \"wb\") as f:\n",
    "    pickle.dump(X, f)\n",
    "    \n",
    "print(\"Encoder, scaler, and combined data saved to pickle files.\")\n"
   ]
  }
 ],
 "metadata": {
  "kernelspec": {
   "display_name": ".venv",
   "language": "python",
   "name": "python3"
  },
  "language_info": {
   "codemirror_mode": {
    "name": "ipython",
    "version": 3
   },
   "file_extension": ".py",
   "mimetype": "text/x-python",
   "name": "python",
   "nbconvert_exporter": "python",
   "pygments_lexer": "ipython3",
   "version": "3.10.12"
  }
 },
 "nbformat": 4,
 "nbformat_minor": 2
}
